{
 "cells": [
  {
   "cell_type": "code",
   "execution_count": 1,
   "metadata": {},
   "outputs": [],
   "source": [
    "import pandas as pd\n",
    "import numpy as np\n",
    "import sympy \n",
    "from scipy.stats import multivariate_normal\n",
    "from scipy.optimize import fsolve,root"
   ]
  },
  {
   "cell_type": "code",
   "execution_count": 3,
   "metadata": {},
   "outputs": [
    {
     "ename": "NameError",
     "evalue": "name 'AAPL' is not defined",
     "output_type": "error",
     "traceback": [
      "\u001b[1;31m---------------------------------------------------------------------------\u001b[0m",
      "\u001b[1;31mNameError\u001b[0m                                 Traceback (most recent call last)",
      "\u001b[1;32m<ipython-input-3-0a9041b0e62b>\u001b[0m in \u001b[0;36m<module>\u001b[1;34m\u001b[0m\n\u001b[0;32m      1\u001b[0m \u001b[1;31m# read data\u001b[0m\u001b[1;33m\u001b[0m\u001b[1;33m\u001b[0m\u001b[1;33m\u001b[0m\u001b[0m\n\u001b[0;32m      2\u001b[0m \u001b[1;31m#AAPL = pd.read_csv(\"C:/Users/HP/Desktop/HW3 data/AAPL.csv\")\u001b[0m\u001b[1;33m\u001b[0m\u001b[1;33m\u001b[0m\u001b[1;33m\u001b[0m\u001b[0m\n\u001b[1;32m----> 3\u001b[1;33m \u001b[0mr\u001b[0m \u001b[1;33m=\u001b[0m \u001b[0mnp\u001b[0m\u001b[1;33m.\u001b[0m\u001b[0mmean\u001b[0m\u001b[1;33m(\u001b[0m\u001b[0mAAPL\u001b[0m\u001b[1;33m.\u001b[0m\u001b[0mReturns\u001b[0m\u001b[1;33m)\u001b[0m\u001b[1;33m\u001b[0m\u001b[1;33m\u001b[0m\u001b[0m\n\u001b[0m\u001b[0;32m      4\u001b[0m \u001b[0mvol\u001b[0m \u001b[1;33m=\u001b[0m \u001b[0mnp\u001b[0m\u001b[1;33m.\u001b[0m\u001b[0mstd\u001b[0m\u001b[1;33m(\u001b[0m\u001b[0mAAPL\u001b[0m\u001b[1;33m.\u001b[0m\u001b[0mReturns\u001b[0m\u001b[1;33m)\u001b[0m\u001b[1;33m\u001b[0m\u001b[1;33m\u001b[0m\u001b[0m\n\u001b[0;32m      5\u001b[0m \u001b[0mmarket_cap\u001b[0m \u001b[1;33m=\u001b[0m \u001b[0mAAPL\u001b[0m\u001b[1;33m.\u001b[0m\u001b[0miloc\u001b[0m\u001b[1;33m[\u001b[0m\u001b[1;36m0\u001b[0m\u001b[1;33m,\u001b[0m\u001b[1;36m8\u001b[0m\u001b[1;33m]\u001b[0m\u001b[1;33m\u001b[0m\u001b[1;33m\u001b[0m\u001b[0m\n",
      "\u001b[1;31mNameError\u001b[0m: name 'AAPL' is not defined"
     ]
    }
   ],
   "source": [
    "# read data\n",
    "AAPL = pd.read_csv(\"C:/Users/HP/Desktop/HW3 data/AAPL.csv\")\n",
    "r = np.mean(AAPL.Returns)\n",
    "vol = np.std(AAPL.Returns)\n",
    "market_cap = AAPL.iloc[0,8]\n",
    "currentL = AAPL.iloc[0,9]\n",
    "longtermL = AAPL.iloc[0,10]\n",
    "bookvalue = AAPL.iloc[0,11]\n",
    "T2 = 2\n",
    "T1 = 1\n",
    "rho = np.sqrt(T1/T2)\n",
    "k1 = 100\n",
    "k2 = 100\n",
    "A2ba = k2\n",
    "\n",
    "#symbolic A1ba to construct the function \n",
    "A1ba = sympy.symbols('A1ba')\n",
    "xp = (sympy.log(A1ba)-sympy.log(k2)+(r+0.5*vol**2)*(T2-T1))/(vol*np.sqrt(T2-T1))\n",
    "xn = (sympy.log(A1ba)-sympy.log(k2)+(r-0.5*vol**2)*(T2-T1))/(vol*np.sqrt(T2-T1))\n",
    "A1ba= sympy.solve([A1ba*sympy.exp(-xp**2/2)/np.sqrt(2*np.pi)-np.exp(-r*(T2-T1))*k2*sympy.exp(-xn**2/2)/np.sqrt(2*np.pi)-k1],[A1ba])\n",
    "\n",
    "h1p = (np.log(market_cap) - np.log(A1ba) + (r+0.5*vol**2)*T1)/(vol*np.sqrt(T1))\n",
    "h1n = (np.log(market_cap) - np.log(A1ba) + (r-0.5*vol**2)*T1)/(vol*np.sqrt(T1))\n",
    "h2p = (np.log(market_cap) - np.log(A2ba) + (r+0.5*vol**2)*T2)/(vol*np.sqrt(T2))\n",
    "h2n = (np.log(market_cap) - np.log(A2ba) + (r-0.5*vol**2)*T2)/(vol*np.sqrt(T2))\n",
    "rho = np.sqrt(T1/T2)\n",
    "\n",
    "y1p = (np.log(market_cap)-np.log(k1)+(r+0.5*vol**2)*T1)/(vol*np.sqrt(T1))\n",
    "y1n = (np.log(market_cap)-np.log(k1)+(r-0.5*vol**2)*T1)/(vol*np.sqrt(T1))\n",
    "D1 = market_cap*multivariate_normal.pdf(-y1p)+np.exp(-r*T1)*k1*multivariate_normal.pdf(y1n)\n",
    "D2 = market_cap-D1-Equity"
   ]
  },
  {
   "cell_type": "code",
   "execution_count": null,
   "metadata": {},
   "outputs": [],
   "source": []
  }
 ],
 "metadata": {
  "kernelspec": {
   "display_name": "Python 3",
   "language": "python",
   "name": "python3"
  },
  "language_info": {
   "codemirror_mode": {
    "name": "ipython",
    "version": 3
   },
   "file_extension": ".py",
   "mimetype": "text/x-python",
   "name": "python",
   "nbconvert_exporter": "python",
   "pygments_lexer": "ipython3",
   "version": "3.7.4"
  }
 },
 "nbformat": 4,
 "nbformat_minor": 2
}
